{
 "cells": [
  {
   "cell_type": "code",
   "execution_count": 5,
   "metadata": {},
   "outputs": [],
   "source": [
    "import os\n",
    "import numpy as np\n",
    "import pandas as pd\n",
    "from PIL import Image"
   ]
  },
  {
   "cell_type": "markdown",
   "metadata": {},
   "source": [
    "1. LOAD DATA"
   ]
  },
  {
   "cell_type": "code",
   "execution_count": 6,
   "metadata": {},
   "outputs": [],
   "source": [
    "base_path = \"C:/Users/achma/OneDrive - UGM 365/01. Projects/MTI/#2 SMT/CV/Project_UAS/PROJECT_Data/\"\n",
    "csv_path = os.path.join(base_path, \"C:/Users/achma/OneDrive - UGM 365/01. Projects/MTI/#2 SMT/CV/Project_UAS/ISIC_2017_Data_GroundTruth_Classification.csv\")\n",
    "df = pd.read_csv(csv_path)"
   ]
  },
  {
   "cell_type": "code",
   "execution_count": 7,
   "metadata": {},
   "outputs": [],
   "source": [
    "def load_image(image_path):\n",
    "    try:\n",
    "        with Image.open(image_path) as img:\n",
    "            return np.array(img)\n",
    "    except Exception as e:\n",
    "        print(f\"Error loading image {image_path}: {e}\")\n",
    "        return None\n",
    "\n",
    "def load_images(base_path, image_ids):\n",
    "    original_images = {}\n",
    "    binary_images = {}\n",
    "    superpixel_images = {}\n",
    "\n",
    "    for img_id in image_ids:\n",
    "        originalfilename = f\"ISIC_{img_id}.jpg\"\n",
    "        original_path = os.path.join(base_path, originalfilename)\n",
    "        original_img = load_image(original_path)\n",
    "        if original_img is not None:\n",
    "            original_images[img_id] = original_img\n",
    "\n",
    "        binaryfilename = f\"ISIC_{img_id}_segmentation.png\"\n",
    "        binary_path = os.path.join(base_path, binaryfilename)\n",
    "        binary_img = load_image(binary_path)\n",
    "        if binary_img is not None:\n",
    "            binary_images[img_id] = binary_img\n",
    "\n",
    "        superpixelfilename = f\"ISIC_{img_id}_superpixels.png\"\n",
    "        superpixel_path = os.path.join(base_path, superpixelfilename)\n",
    "        superpixel_img = load_image(superpixel_path)\n",
    "        if superpixel_img is not None:\n",
    "            superpixel_images[img_id] = superpixel_img\n",
    "\n",
    "    return original_images, binary_images, superpixel_images\n"
   ]
  },
  {
   "cell_type": "code",
   "execution_count": 8,
   "metadata": {},
   "outputs": [],
   "source": [
    "availableimages = [f\"ISIC_{img_id.split('_')[-1]}.jpg\" for img_id in df['image_id']]\n",
    "available_images = [originalfilename for originalfilename in availableimages if os.path.exists(os.path.join(base_path, originalfilename))]\n",
    "availableids = [originalfilename.split('.')[0].split('_')[-1] for originalfilename in available_images]\n",
    "\n",
    "original_images, binary_images, superpixel_images = load_images(base_path, availableids)"
   ]
  },
  {
   "cell_type": "code",
   "execution_count": 9,
   "metadata": {},
   "outputs": [
    {
     "name": "stdout",
     "output_type": "stream",
     "text": [
      "Count original: 200\n",
      "Count binary: 200\n",
      "Count superpixel: 200\n"
     ]
    }
   ],
   "source": [
    "print(f\"Count original: {len(original_images)}\")\n",
    "print(f\"Count binary: {len(binary_images)}\")\n",
    "print(f\"Count superpixel: {len(superpixel_images)}\")"
   ]
  },
  {
   "cell_type": "markdown",
   "metadata": {},
   "source": [
    "2. FEATURES EXTRACTION"
   ]
  },
  {
   "cell_type": "code",
   "execution_count": 10,
   "metadata": {},
   "outputs": [],
   "source": [
    "from skimage.measure import regionprops, label\n",
    "from skimage.feature import graycomatrix, graycoprops, local_binary_pattern\n",
    "from scipy.stats import kurtosis, skew"
   ]
  },
  {
   "cell_type": "code",
   "execution_count": 11,
   "metadata": {},
   "outputs": [],
   "source": [
    "def extract_geometric_features(binary_image):\n",
    "    labeled_img = label(binary_image)\n",
    "    regions = regionprops(labeled_img)\n",
    "\n",
    "    if regions:\n",
    "        largest_region = max(regions, key=lambda r: r.area)\n",
    "        return {\n",
    "            'area': largest_region.area,\n",
    "            'perimeter': largest_region.perimeter,\n",
    "            'eccentricity': largest_region.eccentricity,\n",
    "            'equivalent_diameter': largest_region.equivalent_diameter,\n",
    "            'extent': largest_region.extent,\n",
    "            'solidity': largest_region.solidity,\n",
    "        }\n",
    "    else:\n",
    "        return {\n",
    "            'area': 0, 'perimeter': 0, 'eccentricity': 0,\n",
    "            'equivalent_diameter': 0, 'extent': 0, 'solidity': 0\n",
    "        }\n",
    "\n",
    "def extract_texture_features(image, is_superpixel=False):\n",
    "    if len(image.shape) == 3:\n",
    "        image = np.mean(image, axis=2).astype(np.uint8) \n",
    "\n",
    "    glcm = graycomatrix(image, [1], [0, np.pi/4, np.pi/2, 3*np.pi/4], symmetric=True, normed=True)\n",
    "    contrast = graycoprops(glcm, 'contrast').mean()\n",
    "    dissimilarity = graycoprops(glcm, 'dissimilarity').mean()\n",
    "    homogeneity = graycoprops(glcm, 'homogeneity').mean()\n",
    "    energy = graycoprops(glcm, 'energy').mean()\n",
    "    correlation = graycoprops(glcm, 'correlation').mean()\n",
    "\n",
    "    radius = 3\n",
    "    n_points = 8 * radius\n",
    "    lbp = local_binary_pattern(image, n_points, radius, method='uniform')\n",
    "    hist, _ = np.histogram(lbp.ravel(), bins=np.arange(0, n_points + 3), range=(0, n_points + 2))\n",
    "    hist = hist.astype(\"float\")\n",
    "    hist /= (hist.sum() + 1e-7)\n",
    "    lbp_entropy = -np.sum(hist * np.log2(hist + 1e-7))\n",
    "\n",
    "    if is_superpixel:\n",
    "        unique_values = np.unique(image)\n",
    "        return {\n",
    "            'num_superpixels': len(unique_values),\n",
    "            'superpixel_variation': np.std(unique_values),\n",
    "        }\n",
    "    else:\n",
    "        return {\n",
    "            'contrast': contrast,\n",
    "            'dissimilarity': dissimilarity,\n",
    "            'homogeneity': homogeneity,\n",
    "            'energy': energy,\n",
    "            'correlation': correlation,\n",
    "            'lbp_entropy': lbp_entropy,\n",
    "            'mean_intensity': np.mean(image),\n",
    "            'std_intensity': np.std(image),\n",
    "            'kurtosis': kurtosis(image.ravel()),\n",
    "            'skewness': skew(image.ravel())\n",
    "        }\n",
    "\n",
    "def extract_all_features(original_image, binary_image, superpixel_image):\n",
    "    geometric_features = extract_geometric_features(binary_image)\n",
    "    texture_features_original = extract_texture_features(original_image)\n",
    "    texture_features_superpixel = extract_texture_features(superpixel_image, is_superpixel=True)\n",
    "\n",
    "    all_features = {**geometric_features, **texture_features_original, **texture_features_superpixel}\n",
    "\n",
    "    return all_features"
   ]
  },
  {
   "cell_type": "code",
   "execution_count": 12,
   "metadata": {},
   "outputs": [],
   "source": [
    "dataset = []\n",
    "for img_id in availableids:\n",
    "    if img_id in original_images and img_id in binary_images and img_id in superpixel_images:\n",
    "        item = {\n",
    "            'original_image': original_images[img_id],\n",
    "            'binary_image': binary_images[img_id],\n",
    "            'superpixel_image': superpixel_images[img_id],\n",
    "            'melanoma': df.loc[df['image_id'] == f'ISIC_{img_id}', 'melanoma'].values[0]\n",
    "        }\n",
    "        features = extract_all_features(item['original_image'], item['binary_image'], item['superpixel_image'])\n",
    "        item['features'] = features\n",
    "        dataset.append(item)"
   ]
  },
  {
   "cell_type": "code",
   "execution_count": 13,
   "metadata": {},
   "outputs": [
    {
     "name": "stdout",
     "output_type": "stream",
     "text": [
      "\n",
      "Example for the first picture:\n",
      "area: 364956.0\n",
      "perimeter: 2586.8855685242374\n",
      "eccentricity: 0.7571807388984642\n",
      "equivalent_diameter: 681.6717768019782\n",
      "extent: 0.7319262610704659\n",
      "solidity: 0.9688342854715739\n",
      "contrast: 10.478260590764505\n",
      "dissimilarity: 1.5410770892065262\n",
      "homogeneity: 0.5625499366651052\n",
      "energy: 0.07724085726514854\n",
      "correlation: 0.9988838721438769\n",
      "lbp_entropy: 3.967610412436776\n",
      "mean_intensity: 149.97988197082694\n",
      "std_intensity: 68.58369399090007\n",
      "kurtosis: -1.5124072679466303\n",
      "skewness: -0.45019357371909974\n",
      "num_superpixels: 86\n",
      "superpixel_variation: 24.82438317461282\n",
      "\n",
      "Size picture matrix: (200, 18)\n",
      "Count features: 18\n",
      "Feature names: ['area', 'perimeter', 'eccentricity', 'equivalent_diameter', 'extent', 'solidity', 'contrast', 'dissimilarity', 'homogeneity', 'energy', 'correlation', 'lbp_entropy', 'mean_intensity', 'std_intensity', 'kurtosis', 'skewness', 'num_superpixels', 'superpixel_variation']\n"
     ]
    }
   ],
   "source": [
    "print(\"\\nExample for the first picture:\")\n",
    "for key, value in dataset[0]['features'].items():\n",
    "    print(f\"{key}: {value}\")\n",
    "\n",
    "feature_names = list(dataset[0]['features'].keys())\n",
    "X = np.array([list(item['features'].values()) for item in dataset])\n",
    "y = np.array([item['melanoma'] for item in dataset])\n",
    "\n",
    "print(f\"\\nSize picture matrix: {X.shape}\")\n",
    "print(f\"Count features: {len(feature_names)}\")\n",
    "print(f\"Feature names: {feature_names}\")"
   ]
  },
  {
   "cell_type": "code",
   "execution_count": 14,
   "metadata": {},
   "outputs": [
    {
     "name": "stdout",
     "output_type": "stream",
     "text": [
      "              area    perimeter  eccentricity  equivalent_diameter    extent  \\\n",
      "image_id                                                                       \n",
      "0000000   364956.0  2586.885569      0.757181           681.671777  0.731926   \n",
      "0000001    53432.0  1068.915872      0.436456           260.828939  0.749923   \n",
      "0000002   237402.0  2421.010460      0.597147           549.790519  0.642384   \n",
      "0000003   260712.0  2187.655121      0.433660           576.150005  0.707612   \n",
      "0000004   269484.0  2014.410388      0.666933           585.762482  0.757791   \n",
      "...            ...          ...           ...                  ...       ...   \n",
      "0000511   369118.0  3594.269478      0.725531           685.547689  0.612461   \n",
      "0000513   193598.0  1788.285497      0.554615           496.484269  0.743284   \n",
      "0000516   273920.0  2389.897762      0.851266           590.563948  0.569705   \n",
      "0000517   563610.0  3338.042856      0.699698           847.118964  0.770801   \n",
      "0000518   123361.0  1583.491557      0.576771           396.318185  0.621679   \n",
      "\n",
      "          solidity    contrast  dissimilarity  homogeneity    energy  \\\n",
      "image_id                                                               \n",
      "0000000   0.968834   10.478261       1.541077     0.562550  0.077241   \n",
      "0000001   0.927011   25.900243       1.241940     0.666455  0.116812   \n",
      "0000002   0.915687   72.172214       2.034859     0.488509  0.047616   \n",
      "0000003   0.955924   10.013457       1.465444     0.608280  0.097955   \n",
      "0000004   0.986359  229.047802       2.352923     0.645365  0.306543   \n",
      "...            ...         ...            ...          ...       ...   \n",
      "0000511   0.866694    4.575260       1.512468     0.480806  0.043977   \n",
      "0000513   0.951758   12.285464       1.631667     0.489385  0.075709   \n",
      "0000516   0.920656   52.232670       2.802626     0.384564  0.083928   \n",
      "0000517   0.901202    6.072479       1.700570     0.460620  0.060231   \n",
      "0000518   0.916535   28.384810       3.077549     0.313425  0.049918   \n",
      "\n",
      "          correlation  lbp_entropy  mean_intensity  std_intensity  kurtosis  \\\n",
      "image_id                                                                      \n",
      "0000000      0.998884     3.967610      149.979882      68.583694 -1.512407   \n",
      "0000001      0.986792     3.897167      164.315830      31.525443  9.244741   \n",
      "0000002      0.982133     4.040853      157.853610      45.079006  0.650276   \n",
      "0000003      0.998566     3.978514      178.160301      59.124638 -0.732742   \n",
      "0000004      0.984664     3.324976       79.438762      86.672775 -1.477620   \n",
      "...               ...          ...             ...            ...       ...   \n",
      "0000511      0.997784     3.753651      150.038666      32.133079 -1.182549   \n",
      "0000513      0.989900     3.447640      179.064134      24.653359  1.862076   \n",
      "0000516      0.978269     3.332484      196.224728      34.647063  0.471246   \n",
      "0000517      0.994354     3.347143      128.362848      23.178602  1.546140   \n",
      "0000518      0.988255     3.008109      131.770054      34.739586  2.801503   \n",
      "\n",
      "          skewness  num_superpixels  superpixel_variation  melanoma  \n",
      "image_id                                                             \n",
      "0000000  -0.450194               86             24.824383       0.0  \n",
      "0000001  -2.981298               86             24.824383       0.0  \n",
      "0000002  -1.087565               86             24.824383       1.0  \n",
      "0000003  -0.937082               86             24.824383       0.0  \n",
      "0000004   0.436352               86             24.824383       1.0  \n",
      "...            ...              ...                   ...       ...  \n",
      "0000511  -0.412331               86             24.824383       1.0  \n",
      "0000513  -1.708724               86             24.824383       1.0  \n",
      "0000516  -1.227486               86             24.824383       1.0  \n",
      "0000517  -1.529766               86             24.824383       1.0  \n",
      "0000518  -1.989218               86             24.824383       1.0  \n",
      "\n",
      "[200 rows x 19 columns]\n"
     ]
    }
   ],
   "source": [
    "feature_df = pd.DataFrame(columns=['image_id'] + feature_names + ['melanoma'])\n",
    "\n",
    "for img_file in available_images:\n",
    "    img_id = img_file.split('.')[0].split('_')[-1]\n",
    "    item = dataset[availableids.index(img_id)]\n",
    "    feature_values = list(item['features'].values())\n",
    "    feature_row = [img_id] + feature_values + [item['melanoma']]\n",
    "    feature_df.loc[len(feature_df)] = feature_row\n",
    "\n",
    "feature_df = feature_df.set_index('image_id')\n",
    "\n",
    "print(feature_df)"
   ]
  },
  {
   "cell_type": "code",
   "execution_count": 15,
   "metadata": {},
   "outputs": [],
   "source": [
    "feature_df.to_csv('feature_table.csv')"
   ]
  },
  {
   "cell_type": "markdown",
   "metadata": {},
   "source": [
    "3. CLASSIFICATION & TESTING"
   ]
  },
  {
   "cell_type": "code",
   "execution_count": 16,
   "metadata": {},
   "outputs": [
    {
     "name": "stdout",
     "output_type": "stream",
     "text": [
      "F1 score: 0.75\n",
      "Confusion matrix:\n",
      "[[20  1]\n",
      " [ 7 12]]\n",
      "Accuracy: 0.80\n",
      "ROC AUC: 0.90\n"
     ]
    }
   ],
   "source": [
    "from sklearn.model_selection import train_test_split\n",
    "from sklearn.naive_bayes import GaussianNB\n",
    "from sklearn.metrics import f1_score, confusion_matrix, accuracy_score, roc_curve, auc\n",
    "\n",
    "feature_df = pd.read_csv('feature_table.csv')\n",
    "\n",
    "X = feature_df.drop('melanoma', axis=1)\n",
    "y = feature_df['melanoma']\n",
    "\n",
    "\n",
    "X_train, X_test, y_train, y_test = train_test_split(X, y, test_size=0.2, random_state=42)\n",
    "\n",
    "nb_classifier = GaussianNB()\n",
    "nb_classifier.fit(X_train, y_train)\n",
    "\n",
    "y_pred = nb_classifier.predict(X_test)\n",
    "\n",
    "f1 = f1_score(y_test, y_pred)\n",
    "print(f\"F1 score: {f1:.2f}\")\n",
    "\n",
    "conf_matrix = confusion_matrix(y_test, y_pred)\n",
    "print(\"Confusion matrix:\")\n",
    "print(conf_matrix)\n",
    "\n",
    "accuracy = accuracy_score(y_test, y_pred)\n",
    "print(f\"Accuracy: {accuracy:.2f}\")\n",
    "\n",
    "fpr, tpr, thresholds = roc_curve(y_test, nb_classifier.predict_proba(X_test)[:, 1])\n",
    "roc_auc = auc(fpr, tpr)\n",
    "print(f\"ROC AUC: {roc_auc:.2f}\")"
   ]
  },
  {
   "cell_type": "code",
   "execution_count": 17,
   "metadata": {},
   "outputs": [
    {
     "data": {
      "image/png": "[encoded data removed]",
      "text/plain": [
       "<Figure size 800x600 with 1 Axes>"
      ]
     },
     "metadata": {},
     "output_type": "display_data"
    }
   ],
   "source": [
    "import matplotlib.pyplot as plt\n",
    "plt.figure(figsize=(8, 6))\n",
    "plt.plot(fpr, tpr, color='darkorange', label=f'ROC curve (AUC = {roc_auc:.2f})')\n",
    "plt.plot([0, 1], [0, 1], color='navy', linestyle='--')\n",
    "plt.xlim([0.0, 1.0])\n",
    "plt.ylim([0.0, 1.05])\n",
    "plt.xlabel('False Positive Rate')\n",
    "plt.ylabel('True Positive Rate')\n",
    "plt.title('Receiver Operating Characteristic (ROC) Curve')\n",
    "plt.legend(loc=\"lower right\")\n",
    "plt.show()"
   ]
  }
 ],
 "metadata": {
  "kernelspec": {
   "display_name": "base",
   "language": "python",
   "name": "python3"
  },
  "language_info": {
   "codemirror_mode": {
    "name": "ipython",
    "version": 3
   },
   "file_extension": ".py",
   "mimetype": "text/x-python",
   "name": "python",
   "nbconvert_exporter": "python",
   "pygments_lexer": "ipython3",
   "version": "3.11.5"
  }
 },
 "nbformat": 4,
 "nbformat_minor": 2
}
